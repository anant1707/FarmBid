{
 "cells": [
  {
   "cell_type": "code",
   "execution_count": 29,
   "metadata": {},
   "outputs": [],
   "source": [
    "import xlrd\n",
    "import xlwt\n",
    "import os"
   ]
  },
  {
   "cell_type": "code",
   "execution_count": 30,
   "metadata": {},
   "outputs": [],
   "source": [
    "for file in os.listdir(os.getcwd()):\n",
    "    if file.endswith('.xls'):\n",
    "        row=0\n",
    "        book=xlrd.open_workbook(os.getcwd()+ '/' + file)\n",
    "        outbook=xlwt.Workbook()\n",
    "        outsheet=outbook.add_sheet('Combined')\n",
    "        for sheet in book.sheet_names():\n",
    "            currsheet=book.sheet_by_name(sheet)\n",
    "            outsheet.write(row,0,sheet)\n",
    "            row+=1\n",
    "            for i in range(currsheet.nrows):\n",
    "                if i==3 or i==17:\n",
    "                    for j in range(3,currsheet.ncols):\n",
    "                        outsheet.write(row,j-3,currsheet.cell(i,j).value)\n",
    "                    row+=1\n",
    "        outbook.save(f'output/{file}')\n",
    "                    \n",
    "                \n",
    "                "
   ]
  },
  {
   "cell_type": "code",
   "execution_count": 31,
   "metadata": {},
   "outputs": [],
   "source": [
    "import pandas as pd \n",
    "import numpy as np"
   ]
  },
  {
   "cell_type": "code",
   "execution_count": 32,
   "metadata": {},
   "outputs": [],
   "source": [
    "for file in os.listdir(os.getcwd() +'/output'):\n",
    "    if file.endswith('.xls'):\n",
    "        df=pd.read_excel(os.getcwd()+f'/output/{file}')\n",
    "        df=df.T\n",
    "        df.to_excel(os.getcwd()+f'/output/{file}')"
   ]
  },
  {
   "cell_type": "code",
   "execution_count": 42,
   "metadata": {},
   "outputs": [],
   "source": [
    "for file in os.listdir(os.getcwd() + '/output'):\n",
    "    if file.endswith('.xls'):\n",
    "        book=xlrd.open_workbook(os.getcwd()+ '/output/' + file)\n",
    "        outbook=xlwt.Workbook()\n",
    "        outsheet=outbook.add_sheet('Combined')\n",
    "        currsheet=book.sheet_by_name('Sheet1')\n",
    "        for i in range(0,currsheet.ncols,3):\n",
    "            count=0\n",
    "            for j in range(currsheet.nrows):\n",
    "                if currsheet.cell(j,i+1).value == '':\n",
    "                    break\n",
    "                else:\n",
    "                    outsheet.write(row+j,0,currsheet.cell(j,i).value)\n",
    "                    outsheet.write(row+j,1,currsheet.cell(j,i+1).value)\n",
    "                    outsheet.write(row+j,2,currsheet.cell(j,i+2).value)\n",
    "                    count+=1\n",
    "            row+=count+1\n",
    "        outbook.save(f'output/merged/{file}')\n",
    "                    "
   ]
  },
  {
   "cell_type": "code",
   "execution_count": null,
   "metadata": {},
   "outputs": [],
   "source": []
  },
  {
   "cell_type": "code",
   "execution_count": 27,
   "metadata": {},
   "outputs": [],
   "source": []
  }
 ],
 "metadata": {
  "kernelspec": {
   "display_name": "Python 3",
   "language": "python",
   "name": "python3"
  },
  "language_info": {
   "codemirror_mode": {
    "name": "ipython",
    "version": 3
   },
   "file_extension": ".py",
   "mimetype": "text/x-python",
   "name": "python",
   "nbconvert_exporter": "python",
   "pygments_lexer": "ipython3",
   "version": "3.7.4"
  }
 },
 "nbformat": 4,
 "nbformat_minor": 2
}
